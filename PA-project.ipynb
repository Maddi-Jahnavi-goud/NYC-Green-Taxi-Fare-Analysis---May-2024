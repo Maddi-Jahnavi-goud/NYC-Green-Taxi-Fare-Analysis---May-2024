{
  "cells": [
    {
      "cell_type": "code",
      "execution_count": 3,
      "metadata": {
        "id": "SVvaFLEuf3Lp"
      },
      "outputs": [],
      "source": [
        "import pandas as pd\n",
        "import numpy as np\n",
        "import matplotlib.pyplot as plt"
      ]
    },
    {
      "cell_type": "code",
      "execution_count": 4,
      "metadata": {
        "id": "B9rAMZcZgCqC"
      },
      "outputs": [],
      "source": [
        "nycgreen=pd.read_parquet(r\"/content/drive/MyDrive/sem6/AAI/green_tripdata_2024-05.parquet\")"
      ]
    },
    {
      "cell_type": "code",
      "execution_count": 5,
      "metadata": {
        "colab": {
          "base_uri": "https://localhost:8080/"
        },
        "id": "WFiHy0YIgEbN",
        "outputId": "c02b66d0-aea6-4e10-8227-d03c5a1e801c"
      },
      "outputs": [
        {
          "output_type": "stream",
          "name": "stdout",
          "text": [
            "<class 'pandas.core.frame.DataFrame'>\n",
            "RangeIndex: 61003 entries, 0 to 61002\n",
            "Data columns (total 20 columns):\n",
            " #   Column                 Non-Null Count  Dtype         \n",
            "---  ------                 --------------  -----         \n",
            " 0   VendorID               61003 non-null  int32         \n",
            " 1   lpep_pickup_datetime   61003 non-null  datetime64[us]\n",
            " 2   lpep_dropoff_datetime  61003 non-null  datetime64[us]\n",
            " 3   store_and_fwd_flag     59111 non-null  object        \n",
            " 4   RatecodeID             59111 non-null  float64       \n",
            " 5   PULocationID           61003 non-null  int32         \n",
            " 6   DOLocationID           61003 non-null  int32         \n",
            " 7   passenger_count        59111 non-null  float64       \n",
            " 8   trip_distance          61003 non-null  float64       \n",
            " 9   fare_amount            61003 non-null  float64       \n",
            " 10  extra                  61003 non-null  float64       \n",
            " 11  mta_tax                61003 non-null  float64       \n",
            " 12  tip_amount             61003 non-null  float64       \n",
            " 13  tolls_amount           61003 non-null  float64       \n",
            " 14  ehail_fee              0 non-null      float64       \n",
            " 15  improvement_surcharge  61003 non-null  float64       \n",
            " 16  total_amount           61003 non-null  float64       \n",
            " 17  payment_type           59111 non-null  float64       \n",
            " 18  trip_type              59097 non-null  float64       \n",
            " 19  congestion_surcharge   59111 non-null  float64       \n",
            "dtypes: datetime64[us](2), float64(14), int32(3), object(1)\n",
            "memory usage: 8.6+ MB\n"
          ]
        }
      ],
      "source": [
        "nycgreen.info()"
      ]
    },
    {
      "cell_type": "code",
      "execution_count": 6,
      "metadata": {
        "id": "F0K9atDxgLhX"
      },
      "outputs": [],
      "source": [
        "nycgreen=nycgreen.drop(\"ehail_fee\",axis=1) # Drop ehail fee"
      ]
    },
    {
      "cell_type": "code",
      "execution_count": 7,
      "metadata": {
        "id": "s0M2zWyygOeI"
      },
      "outputs": [],
      "source": [
        "# Create New variable \"trip_duration\"\n",
        "nycgreen[\"trip_duration\"]=nycgreen.lpep_dropoff_datetime-nycgreen.lpep_pickup_datetime"
      ]
    },
    {
      "cell_type": "code",
      "execution_count": 8,
      "metadata": {
        "colab": {
          "base_uri": "https://localhost:8080/",
          "height": 147
        },
        "id": "ezo5zyhNgQW0",
        "outputId": "3973a903-d84b-4562-fc13-472c161da3b0"
      },
      "outputs": [
        {
          "output_type": "execute_result",
          "data": {
            "text/plain": [
              "0   0 days 00:07:55\n",
              "1   0 days 00:05:01\n",
              "Name: trip_duration, dtype: timedelta64[us]"
            ],
            "text/html": [
              "<div>\n",
              "<style scoped>\n",
              "    .dataframe tbody tr th:only-of-type {\n",
              "        vertical-align: middle;\n",
              "    }\n",
              "\n",
              "    .dataframe tbody tr th {\n",
              "        vertical-align: top;\n",
              "    }\n",
              "\n",
              "    .dataframe thead th {\n",
              "        text-align: right;\n",
              "    }\n",
              "</style>\n",
              "<table border=\"1\" class=\"dataframe\">\n",
              "  <thead>\n",
              "    <tr style=\"text-align: right;\">\n",
              "      <th></th>\n",
              "      <th>trip_duration</th>\n",
              "    </tr>\n",
              "  </thead>\n",
              "  <tbody>\n",
              "    <tr>\n",
              "      <th>0</th>\n",
              "      <td>0 days 00:07:55</td>\n",
              "    </tr>\n",
              "    <tr>\n",
              "      <th>1</th>\n",
              "      <td>0 days 00:05:01</td>\n",
              "    </tr>\n",
              "  </tbody>\n",
              "</table>\n",
              "</div><br><label><b>dtype:</b> timedelta64[us]</label>"
            ]
          },
          "metadata": {},
          "execution_count": 8
        }
      ],
      "source": [
        "nycgreen.trip_duration.head(2)"
      ]
    },
    {
      "cell_type": "code",
      "execution_count": 9,
      "metadata": {
        "id": "xJZ2lwojgS5i"
      },
      "outputs": [],
      "source": [
        "# Convert timedelta into minutes\n",
        "nycgreen[\"trip_duration\"]=nycgreen[\"trip_duration\"].dt.total_seconds()/60"
      ]
    },
    {
      "cell_type": "code",
      "execution_count": 10,
      "metadata": {
        "id": "bH2xw_GxgV7d"
      },
      "outputs": [],
      "source": [
        "# Create a new variable week day or day of week\n",
        "nycgreen[\"weekday\"]=nycgreen[\"lpep_dropoff_datetime\"].dt.day_name()"
      ]
    },
    {
      "cell_type": "code",
      "execution_count": 11,
      "metadata": {
        "colab": {
          "base_uri": "https://localhost:8080/",
          "height": 335
        },
        "id": "ZgFoRurCgYid",
        "outputId": "d7a968b9-ed02-41aa-ee5e-28e0b760e866"
      },
      "outputs": [
        {
          "output_type": "execute_result",
          "data": {
            "text/plain": [
              "weekday\n",
              "Thursday     10869\n",
              "Wednesday    10500\n",
              "Friday       10485\n",
              "Tuesday       8082\n",
              "Monday        7335\n",
              "Saturday      7024\n",
              "Sunday        6708\n",
              "Name: count, dtype: int64"
            ],
            "text/html": [
              "<div>\n",
              "<style scoped>\n",
              "    .dataframe tbody tr th:only-of-type {\n",
              "        vertical-align: middle;\n",
              "    }\n",
              "\n",
              "    .dataframe tbody tr th {\n",
              "        vertical-align: top;\n",
              "    }\n",
              "\n",
              "    .dataframe thead th {\n",
              "        text-align: right;\n",
              "    }\n",
              "</style>\n",
              "<table border=\"1\" class=\"dataframe\">\n",
              "  <thead>\n",
              "    <tr style=\"text-align: right;\">\n",
              "      <th></th>\n",
              "      <th>count</th>\n",
              "    </tr>\n",
              "    <tr>\n",
              "      <th>weekday</th>\n",
              "      <th></th>\n",
              "    </tr>\n",
              "  </thead>\n",
              "  <tbody>\n",
              "    <tr>\n",
              "      <th>Thursday</th>\n",
              "      <td>10869</td>\n",
              "    </tr>\n",
              "    <tr>\n",
              "      <th>Wednesday</th>\n",
              "      <td>10500</td>\n",
              "    </tr>\n",
              "    <tr>\n",
              "      <th>Friday</th>\n",
              "      <td>10485</td>\n",
              "    </tr>\n",
              "    <tr>\n",
              "      <th>Tuesday</th>\n",
              "      <td>8082</td>\n",
              "    </tr>\n",
              "    <tr>\n",
              "      <th>Monday</th>\n",
              "      <td>7335</td>\n",
              "    </tr>\n",
              "    <tr>\n",
              "      <th>Saturday</th>\n",
              "      <td>7024</td>\n",
              "    </tr>\n",
              "    <tr>\n",
              "      <th>Sunday</th>\n",
              "      <td>6708</td>\n",
              "    </tr>\n",
              "  </tbody>\n",
              "</table>\n",
              "</div><br><label><b>dtype:</b> int64</label>"
            ]
          },
          "metadata": {},
          "execution_count": 11
        }
      ],
      "source": [
        "nycgreen[\"weekday\"].value_counts(dropna=False)"
      ]
    },
    {
      "cell_type": "code",
      "execution_count": 12,
      "metadata": {
        "id": "-1Bptx4Lgdab"
      },
      "outputs": [],
      "source": [
        "# Create new variable \"hour\" based on time variable\n",
        "nycgreen[\"hour\"]=nycgreen[\"lpep_dropoff_datetime\"].dt.hour"
      ]
    },
    {
      "cell_type": "code",
      "execution_count": 13,
      "metadata": {
        "colab": {
          "base_uri": "https://localhost:8080/",
          "height": 868
        },
        "id": "pVIh0BWugfSZ",
        "outputId": "c910ee9a-02ca-4c68-e625-013d5752bb94"
      },
      "outputs": [
        {
          "output_type": "execute_result",
          "data": {
            "text/plain": [
              "hour\n",
              "18    5023\n",
              "17    4780\n",
              "16    4553\n",
              "15    4126\n",
              "19    4095\n",
              "14    3598\n",
              "12    3306\n",
              "9     3081\n",
              "10    3081\n",
              "13    3062\n",
              "20    2976\n",
              "21    2814\n",
              "11    2780\n",
              "8     2606\n",
              "22    2417\n",
              "7     2032\n",
              "23    1948\n",
              "0     1270\n",
              "1      821\n",
              "6      747\n",
              "2      610\n",
              "3      493\n",
              "4      399\n",
              "5      385\n",
              "Name: count, dtype: int64"
            ],
            "text/html": [
              "<div>\n",
              "<style scoped>\n",
              "    .dataframe tbody tr th:only-of-type {\n",
              "        vertical-align: middle;\n",
              "    }\n",
              "\n",
              "    .dataframe tbody tr th {\n",
              "        vertical-align: top;\n",
              "    }\n",
              "\n",
              "    .dataframe thead th {\n",
              "        text-align: right;\n",
              "    }\n",
              "</style>\n",
              "<table border=\"1\" class=\"dataframe\">\n",
              "  <thead>\n",
              "    <tr style=\"text-align: right;\">\n",
              "      <th></th>\n",
              "      <th>count</th>\n",
              "    </tr>\n",
              "    <tr>\n",
              "      <th>hour</th>\n",
              "      <th></th>\n",
              "    </tr>\n",
              "  </thead>\n",
              "  <tbody>\n",
              "    <tr>\n",
              "      <th>18</th>\n",
              "      <td>5023</td>\n",
              "    </tr>\n",
              "    <tr>\n",
              "      <th>17</th>\n",
              "      <td>4780</td>\n",
              "    </tr>\n",
              "    <tr>\n",
              "      <th>16</th>\n",
              "      <td>4553</td>\n",
              "    </tr>\n",
              "    <tr>\n",
              "      <th>15</th>\n",
              "      <td>4126</td>\n",
              "    </tr>\n",
              "    <tr>\n",
              "      <th>19</th>\n",
              "      <td>4095</td>\n",
              "    </tr>\n",
              "    <tr>\n",
              "      <th>14</th>\n",
              "      <td>3598</td>\n",
              "    </tr>\n",
              "    <tr>\n",
              "      <th>12</th>\n",
              "      <td>3306</td>\n",
              "    </tr>\n",
              "    <tr>\n",
              "      <th>9</th>\n",
              "      <td>3081</td>\n",
              "    </tr>\n",
              "    <tr>\n",
              "      <th>10</th>\n",
              "      <td>3081</td>\n",
              "    </tr>\n",
              "    <tr>\n",
              "      <th>13</th>\n",
              "      <td>3062</td>\n",
              "    </tr>\n",
              "    <tr>\n",
              "      <th>20</th>\n",
              "      <td>2976</td>\n",
              "    </tr>\n",
              "    <tr>\n",
              "      <th>21</th>\n",
              "      <td>2814</td>\n",
              "    </tr>\n",
              "    <tr>\n",
              "      <th>11</th>\n",
              "      <td>2780</td>\n",
              "    </tr>\n",
              "    <tr>\n",
              "      <th>8</th>\n",
              "      <td>2606</td>\n",
              "    </tr>\n",
              "    <tr>\n",
              "      <th>22</th>\n",
              "      <td>2417</td>\n",
              "    </tr>\n",
              "    <tr>\n",
              "      <th>7</th>\n",
              "      <td>2032</td>\n",
              "    </tr>\n",
              "    <tr>\n",
              "      <th>23</th>\n",
              "      <td>1948</td>\n",
              "    </tr>\n",
              "    <tr>\n",
              "      <th>0</th>\n",
              "      <td>1270</td>\n",
              "    </tr>\n",
              "    <tr>\n",
              "      <th>1</th>\n",
              "      <td>821</td>\n",
              "    </tr>\n",
              "    <tr>\n",
              "      <th>6</th>\n",
              "      <td>747</td>\n",
              "    </tr>\n",
              "    <tr>\n",
              "      <th>2</th>\n",
              "      <td>610</td>\n",
              "    </tr>\n",
              "    <tr>\n",
              "      <th>3</th>\n",
              "      <td>493</td>\n",
              "    </tr>\n",
              "    <tr>\n",
              "      <th>4</th>\n",
              "      <td>399</td>\n",
              "    </tr>\n",
              "    <tr>\n",
              "      <th>5</th>\n",
              "      <td>385</td>\n",
              "    </tr>\n",
              "  </tbody>\n",
              "</table>\n",
              "</div><br><label><b>dtype:</b> int64</label>"
            ]
          },
          "metadata": {},
          "execution_count": 13
        }
      ],
      "source": [
        "nycgreen[\"hour\"].value_counts(dropna=False)"
      ]
    },
    {
      "cell_type": "code",
      "execution_count": 14,
      "metadata": {
        "id": "TK_ZUdL6gg_N"
      },
      "outputs": [],
      "source": [
        "nycgreen.fillna(nycgreen.mean(numeric_only=True), inplace=True)\n",
        "nycgreen.fillna(nycgreen.mode().iloc[0], inplace=True)"
      ]
    },
    {
      "cell_type": "code",
      "execution_count": 15,
      "metadata": {
        "colab": {
          "base_uri": "https://localhost:8080/",
          "height": 444
        },
        "id": "4_moF8BckBp_",
        "outputId": "f0b02abc-ef7a-46c4-9821-c0f083c40085"
      },
      "outputs": [
        {
          "output_type": "execute_result",
          "data": {
            "text/plain": [
              "       VendorID lpep_pickup_datetime lpep_dropoff_datetime store_and_fwd_flag  \\\n",
              "0             2  2024-05-01 00:07:08   2024-05-01 00:15:03                  N   \n",
              "1             2  2024-05-01 00:30:48   2024-05-01 00:35:49                  N   \n",
              "2             2  2024-05-01 00:34:13   2024-05-01 00:38:07                  N   \n",
              "3             2  2024-05-01 00:58:01   2024-05-01 01:14:41                  N   \n",
              "4             2  2024-05-01 00:11:45   2024-05-01 00:20:38                  N   \n",
              "...         ...                  ...                   ...                ...   \n",
              "60998         2  2024-05-31 22:20:00   2024-05-31 22:34:00                  N   \n",
              "60999         2  2024-05-31 22:08:00   2024-05-31 22:22:00                  N   \n",
              "61000         2  2024-05-31 22:24:00   2024-05-31 22:46:00                  N   \n",
              "61001         2  2024-05-31 23:27:14   2024-05-31 23:52:15                  N   \n",
              "61002         2  2024-05-31 23:30:00   2024-05-31 23:44:00                  N   \n",
              "\n",
              "       RatecodeID  PULocationID  DOLocationID  passenger_count  trip_distance  \\\n",
              "0         1.00000            65            49         1.000000           1.24   \n",
              "1         1.00000             7           179         1.000000           0.94   \n",
              "2         1.00000            74            42         1.000000           0.84   \n",
              "3         1.00000            75           235         1.000000           6.07   \n",
              "4         1.00000           256            49         2.000000           2.06   \n",
              "...           ...           ...           ...              ...            ...   \n",
              "60998     1.22791           166           239         1.323662           2.26   \n",
              "60999     1.22791           149            89         1.323662           2.75   \n",
              "61000     1.22791            89            97         1.323662           4.29   \n",
              "61001     1.22791            80            61         1.323662           3.53   \n",
              "61002     1.22791           200           243         1.323662           5.05   \n",
              "\n",
              "       fare_amount  ...  tip_amount  tolls_amount  improvement_surcharge  \\\n",
              "0             9.30  ...        2.00          0.00                    1.0   \n",
              "1             7.20  ...        1.94          0.00                    1.0   \n",
              "2             6.50  ...        0.00          0.00                    1.0   \n",
              "3            25.40  ...        5.00          0.00                    1.0   \n",
              "4            12.10  ...        2.92          0.00                    1.0   \n",
              "...            ...  ...         ...           ...                    ...   \n",
              "60998        17.22  ...        4.09          0.00                    1.0   \n",
              "60999        17.39  ...        0.89          0.00                    1.0   \n",
              "61000        30.30  ...        1.54          0.00                    1.0   \n",
              "61001        23.02  ...        0.00          0.00                    1.0   \n",
              "61002        23.01  ...        5.00          3.18                    1.0   \n",
              "\n",
              "       total_amount  payment_type  trip_type  congestion_surcharge  \\\n",
              "0             13.80      1.000000   1.000000              0.000000   \n",
              "1             11.64      1.000000   1.000000              0.000000   \n",
              "2              9.00      2.000000   1.000000              0.000000   \n",
              "3             32.90      1.000000   1.000000              0.000000   \n",
              "4             17.52      1.000000   1.000000              0.000000   \n",
              "...             ...           ...        ...                   ...   \n",
              "60998         25.06      1.296172   1.046128              0.835382   \n",
              "60999         19.28      1.296172   1.046128              0.835382   \n",
              "61000         32.84      1.296172   1.046128              0.835382   \n",
              "61001         24.02      1.296172   1.046128              0.835382   \n",
              "61002         32.19      1.296172   1.046128              0.835382   \n",
              "\n",
              "       trip_duration    weekday  hour  \n",
              "0           7.916667  Wednesday     0  \n",
              "1           5.016667  Wednesday     0  \n",
              "2           3.900000  Wednesday     0  \n",
              "3          16.666667  Wednesday     1  \n",
              "4           8.883333  Wednesday     0  \n",
              "...              ...        ...   ...  \n",
              "60998      14.000000     Friday    22  \n",
              "60999      14.000000     Friday    22  \n",
              "61000      22.000000     Friday    22  \n",
              "61001      25.016667     Friday    23  \n",
              "61002      14.000000     Friday    23  \n",
              "\n",
              "[61003 rows x 22 columns]"
            ],
            "text/html": [
              "\n",
              "  <div id=\"df-8a4b3a98-c769-4fb9-b0d0-9dbfd3216d16\" class=\"colab-df-container\">\n",
              "    <div>\n",
              "<style scoped>\n",
              "    .dataframe tbody tr th:only-of-type {\n",
              "        vertical-align: middle;\n",
              "    }\n",
              "\n",
              "    .dataframe tbody tr th {\n",
              "        vertical-align: top;\n",
              "    }\n",
              "\n",
              "    .dataframe thead th {\n",
              "        text-align: right;\n",
              "    }\n",
              "</style>\n",
              "<table border=\"1\" class=\"dataframe\">\n",
              "  <thead>\n",
              "    <tr style=\"text-align: right;\">\n",
              "      <th></th>\n",
              "      <th>VendorID</th>\n",
              "      <th>lpep_pickup_datetime</th>\n",
              "      <th>lpep_dropoff_datetime</th>\n",
              "      <th>store_and_fwd_flag</th>\n",
              "      <th>RatecodeID</th>\n",
              "      <th>PULocationID</th>\n",
              "      <th>DOLocationID</th>\n",
              "      <th>passenger_count</th>\n",
              "      <th>trip_distance</th>\n",
              "      <th>fare_amount</th>\n",
              "      <th>...</th>\n",
              "      <th>tip_amount</th>\n",
              "      <th>tolls_amount</th>\n",
              "      <th>improvement_surcharge</th>\n",
              "      <th>total_amount</th>\n",
              "      <th>payment_type</th>\n",
              "      <th>trip_type</th>\n",
              "      <th>congestion_surcharge</th>\n",
              "      <th>trip_duration</th>\n",
              "      <th>weekday</th>\n",
              "      <th>hour</th>\n",
              "    </tr>\n",
              "  </thead>\n",
              "  <tbody>\n",
              "    <tr>\n",
              "      <th>0</th>\n",
              "      <td>2</td>\n",
              "      <td>2024-05-01 00:07:08</td>\n",
              "      <td>2024-05-01 00:15:03</td>\n",
              "      <td>N</td>\n",
              "      <td>1.00000</td>\n",
              "      <td>65</td>\n",
              "      <td>49</td>\n",
              "      <td>1.000000</td>\n",
              "      <td>1.24</td>\n",
              "      <td>9.30</td>\n",
              "      <td>...</td>\n",
              "      <td>2.00</td>\n",
              "      <td>0.00</td>\n",
              "      <td>1.0</td>\n",
              "      <td>13.80</td>\n",
              "      <td>1.000000</td>\n",
              "      <td>1.000000</td>\n",
              "      <td>0.000000</td>\n",
              "      <td>7.916667</td>\n",
              "      <td>Wednesday</td>\n",
              "      <td>0</td>\n",
              "    </tr>\n",
              "    <tr>\n",
              "      <th>1</th>\n",
              "      <td>2</td>\n",
              "      <td>2024-05-01 00:30:48</td>\n",
              "      <td>2024-05-01 00:35:49</td>\n",
              "      <td>N</td>\n",
              "      <td>1.00000</td>\n",
              "      <td>7</td>\n",
              "      <td>179</td>\n",
              "      <td>1.000000</td>\n",
              "      <td>0.94</td>\n",
              "      <td>7.20</td>\n",
              "      <td>...</td>\n",
              "      <td>1.94</td>\n",
              "      <td>0.00</td>\n",
              "      <td>1.0</td>\n",
              "      <td>11.64</td>\n",
              "      <td>1.000000</td>\n",
              "      <td>1.000000</td>\n",
              "      <td>0.000000</td>\n",
              "      <td>5.016667</td>\n",
              "      <td>Wednesday</td>\n",
              "      <td>0</td>\n",
              "    </tr>\n",
              "    <tr>\n",
              "      <th>2</th>\n",
              "      <td>2</td>\n",
              "      <td>2024-05-01 00:34:13</td>\n",
              "      <td>2024-05-01 00:38:07</td>\n",
              "      <td>N</td>\n",
              "      <td>1.00000</td>\n",
              "      <td>74</td>\n",
              "      <td>42</td>\n",
              "      <td>1.000000</td>\n",
              "      <td>0.84</td>\n",
              "      <td>6.50</td>\n",
              "      <td>...</td>\n",
              "      <td>0.00</td>\n",
              "      <td>0.00</td>\n",
              "      <td>1.0</td>\n",
              "      <td>9.00</td>\n",
              "      <td>2.000000</td>\n",
              "      <td>1.000000</td>\n",
              "      <td>0.000000</td>\n",
              "      <td>3.900000</td>\n",
              "      <td>Wednesday</td>\n",
              "      <td>0</td>\n",
              "    </tr>\n",
              "    <tr>\n",
              "      <th>3</th>\n",
              "      <td>2</td>\n",
              "      <td>2024-05-01 00:58:01</td>\n",
              "      <td>2024-05-01 01:14:41</td>\n",
              "      <td>N</td>\n",
              "      <td>1.00000</td>\n",
              "      <td>75</td>\n",
              "      <td>235</td>\n",
              "      <td>1.000000</td>\n",
              "      <td>6.07</td>\n",
              "      <td>25.40</td>\n",
              "      <td>...</td>\n",
              "      <td>5.00</td>\n",
              "      <td>0.00</td>\n",
              "      <td>1.0</td>\n",
              "      <td>32.90</td>\n",
              "      <td>1.000000</td>\n",
              "      <td>1.000000</td>\n",
              "      <td>0.000000</td>\n",
              "      <td>16.666667</td>\n",
              "      <td>Wednesday</td>\n",
              "      <td>1</td>\n",
              "    </tr>\n",
              "    <tr>\n",
              "      <th>4</th>\n",
              "      <td>2</td>\n",
              "      <td>2024-05-01 00:11:45</td>\n",
              "      <td>2024-05-01 00:20:38</td>\n",
              "      <td>N</td>\n",
              "      <td>1.00000</td>\n",
              "      <td>256</td>\n",
              "      <td>49</td>\n",
              "      <td>2.000000</td>\n",
              "      <td>2.06</td>\n",
              "      <td>12.10</td>\n",
              "      <td>...</td>\n",
              "      <td>2.92</td>\n",
              "      <td>0.00</td>\n",
              "      <td>1.0</td>\n",
              "      <td>17.52</td>\n",
              "      <td>1.000000</td>\n",
              "      <td>1.000000</td>\n",
              "      <td>0.000000</td>\n",
              "      <td>8.883333</td>\n",
              "      <td>Wednesday</td>\n",
              "      <td>0</td>\n",
              "    </tr>\n",
              "    <tr>\n",
              "      <th>...</th>\n",
              "      <td>...</td>\n",
              "      <td>...</td>\n",
              "      <td>...</td>\n",
              "      <td>...</td>\n",
              "      <td>...</td>\n",
              "      <td>...</td>\n",
              "      <td>...</td>\n",
              "      <td>...</td>\n",
              "      <td>...</td>\n",
              "      <td>...</td>\n",
              "      <td>...</td>\n",
              "      <td>...</td>\n",
              "      <td>...</td>\n",
              "      <td>...</td>\n",
              "      <td>...</td>\n",
              "      <td>...</td>\n",
              "      <td>...</td>\n",
              "      <td>...</td>\n",
              "      <td>...</td>\n",
              "      <td>...</td>\n",
              "      <td>...</td>\n",
              "    </tr>\n",
              "    <tr>\n",
              "      <th>60998</th>\n",
              "      <td>2</td>\n",
              "      <td>2024-05-31 22:20:00</td>\n",
              "      <td>2024-05-31 22:34:00</td>\n",
              "      <td>N</td>\n",
              "      <td>1.22791</td>\n",
              "      <td>166</td>\n",
              "      <td>239</td>\n",
              "      <td>1.323662</td>\n",
              "      <td>2.26</td>\n",
              "      <td>17.22</td>\n",
              "      <td>...</td>\n",
              "      <td>4.09</td>\n",
              "      <td>0.00</td>\n",
              "      <td>1.0</td>\n",
              "      <td>25.06</td>\n",
              "      <td>1.296172</td>\n",
              "      <td>1.046128</td>\n",
              "      <td>0.835382</td>\n",
              "      <td>14.000000</td>\n",
              "      <td>Friday</td>\n",
              "      <td>22</td>\n",
              "    </tr>\n",
              "    <tr>\n",
              "      <th>60999</th>\n",
              "      <td>2</td>\n",
              "      <td>2024-05-31 22:08:00</td>\n",
              "      <td>2024-05-31 22:22:00</td>\n",
              "      <td>N</td>\n",
              "      <td>1.22791</td>\n",
              "      <td>149</td>\n",
              "      <td>89</td>\n",
              "      <td>1.323662</td>\n",
              "      <td>2.75</td>\n",
              "      <td>17.39</td>\n",
              "      <td>...</td>\n",
              "      <td>0.89</td>\n",
              "      <td>0.00</td>\n",
              "      <td>1.0</td>\n",
              "      <td>19.28</td>\n",
              "      <td>1.296172</td>\n",
              "      <td>1.046128</td>\n",
              "      <td>0.835382</td>\n",
              "      <td>14.000000</td>\n",
              "      <td>Friday</td>\n",
              "      <td>22</td>\n",
              "    </tr>\n",
              "    <tr>\n",
              "      <th>61000</th>\n",
              "      <td>2</td>\n",
              "      <td>2024-05-31 22:24:00</td>\n",
              "      <td>2024-05-31 22:46:00</td>\n",
              "      <td>N</td>\n",
              "      <td>1.22791</td>\n",
              "      <td>89</td>\n",
              "      <td>97</td>\n",
              "      <td>1.323662</td>\n",
              "      <td>4.29</td>\n",
              "      <td>30.30</td>\n",
              "      <td>...</td>\n",
              "      <td>1.54</td>\n",
              "      <td>0.00</td>\n",
              "      <td>1.0</td>\n",
              "      <td>32.84</td>\n",
              "      <td>1.296172</td>\n",
              "      <td>1.046128</td>\n",
              "      <td>0.835382</td>\n",
              "      <td>22.000000</td>\n",
              "      <td>Friday</td>\n",
              "      <td>22</td>\n",
              "    </tr>\n",
              "    <tr>\n",
              "      <th>61001</th>\n",
              "      <td>2</td>\n",
              "      <td>2024-05-31 23:27:14</td>\n",
              "      <td>2024-05-31 23:52:15</td>\n",
              "      <td>N</td>\n",
              "      <td>1.22791</td>\n",
              "      <td>80</td>\n",
              "      <td>61</td>\n",
              "      <td>1.323662</td>\n",
              "      <td>3.53</td>\n",
              "      <td>23.02</td>\n",
              "      <td>...</td>\n",
              "      <td>0.00</td>\n",
              "      <td>0.00</td>\n",
              "      <td>1.0</td>\n",
              "      <td>24.02</td>\n",
              "      <td>1.296172</td>\n",
              "      <td>1.046128</td>\n",
              "      <td>0.835382</td>\n",
              "      <td>25.016667</td>\n",
              "      <td>Friday</td>\n",
              "      <td>23</td>\n",
              "    </tr>\n",
              "    <tr>\n",
              "      <th>61002</th>\n",
              "      <td>2</td>\n",
              "      <td>2024-05-31 23:30:00</td>\n",
              "      <td>2024-05-31 23:44:00</td>\n",
              "      <td>N</td>\n",
              "      <td>1.22791</td>\n",
              "      <td>200</td>\n",
              "      <td>243</td>\n",
              "      <td>1.323662</td>\n",
              "      <td>5.05</td>\n",
              "      <td>23.01</td>\n",
              "      <td>...</td>\n",
              "      <td>5.00</td>\n",
              "      <td>3.18</td>\n",
              "      <td>1.0</td>\n",
              "      <td>32.19</td>\n",
              "      <td>1.296172</td>\n",
              "      <td>1.046128</td>\n",
              "      <td>0.835382</td>\n",
              "      <td>14.000000</td>\n",
              "      <td>Friday</td>\n",
              "      <td>23</td>\n",
              "    </tr>\n",
              "  </tbody>\n",
              "</table>\n",
              "<p>61003 rows × 22 columns</p>\n",
              "</div>\n",
              "    <div class=\"colab-df-buttons\">\n",
              "\n",
              "  <div class=\"colab-df-container\">\n",
              "    <button class=\"colab-df-convert\" onclick=\"convertToInteractive('df-8a4b3a98-c769-4fb9-b0d0-9dbfd3216d16')\"\n",
              "            title=\"Convert this dataframe to an interactive table.\"\n",
              "            style=\"display:none;\">\n",
              "\n",
              "  <svg xmlns=\"http://www.w3.org/2000/svg\" height=\"24px\" viewBox=\"0 -960 960 960\">\n",
              "    <path d=\"M120-120v-720h720v720H120Zm60-500h600v-160H180v160Zm220 220h160v-160H400v160Zm0 220h160v-160H400v160ZM180-400h160v-160H180v160Zm440 0h160v-160H620v160ZM180-180h160v-160H180v160Zm440 0h160v-160H620v160Z\"/>\n",
              "  </svg>\n",
              "    </button>\n",
              "\n",
              "  <style>\n",
              "    .colab-df-container {\n",
              "      display:flex;\n",
              "      gap: 12px;\n",
              "    }\n",
              "\n",
              "    .colab-df-convert {\n",
              "      background-color: #E8F0FE;\n",
              "      border: none;\n",
              "      border-radius: 50%;\n",
              "      cursor: pointer;\n",
              "      display: none;\n",
              "      fill: #1967D2;\n",
              "      height: 32px;\n",
              "      padding: 0 0 0 0;\n",
              "      width: 32px;\n",
              "    }\n",
              "\n",
              "    .colab-df-convert:hover {\n",
              "      background-color: #E2EBFA;\n",
              "      box-shadow: 0px 1px 2px rgba(60, 64, 67, 0.3), 0px 1px 3px 1px rgba(60, 64, 67, 0.15);\n",
              "      fill: #174EA6;\n",
              "    }\n",
              "\n",
              "    .colab-df-buttons div {\n",
              "      margin-bottom: 4px;\n",
              "    }\n",
              "\n",
              "    [theme=dark] .colab-df-convert {\n",
              "      background-color: #3B4455;\n",
              "      fill: #D2E3FC;\n",
              "    }\n",
              "\n",
              "    [theme=dark] .colab-df-convert:hover {\n",
              "      background-color: #434B5C;\n",
              "      box-shadow: 0px 1px 3px 1px rgba(0, 0, 0, 0.15);\n",
              "      filter: drop-shadow(0px 1px 2px rgba(0, 0, 0, 0.3));\n",
              "      fill: #FFFFFF;\n",
              "    }\n",
              "  </style>\n",
              "\n",
              "    <script>\n",
              "      const buttonEl =\n",
              "        document.querySelector('#df-8a4b3a98-c769-4fb9-b0d0-9dbfd3216d16 button.colab-df-convert');\n",
              "      buttonEl.style.display =\n",
              "        google.colab.kernel.accessAllowed ? 'block' : 'none';\n",
              "\n",
              "      async function convertToInteractive(key) {\n",
              "        const element = document.querySelector('#df-8a4b3a98-c769-4fb9-b0d0-9dbfd3216d16');\n",
              "        const dataTable =\n",
              "          await google.colab.kernel.invokeFunction('convertToInteractive',\n",
              "                                                    [key], {});\n",
              "        if (!dataTable) return;\n",
              "\n",
              "        const docLinkHtml = 'Like what you see? Visit the ' +\n",
              "          '<a target=\"_blank\" href=https://colab.research.google.com/notebooks/data_table.ipynb>data table notebook</a>'\n",
              "          + ' to learn more about interactive tables.';\n",
              "        element.innerHTML = '';\n",
              "        dataTable['output_type'] = 'display_data';\n",
              "        await google.colab.output.renderOutput(dataTable, element);\n",
              "        const docLink = document.createElement('div');\n",
              "        docLink.innerHTML = docLinkHtml;\n",
              "        element.appendChild(docLink);\n",
              "      }\n",
              "    </script>\n",
              "  </div>\n",
              "\n",
              "\n",
              "<div id=\"df-3aa4af6d-f22a-4477-8b24-28274fca283b\">\n",
              "  <button class=\"colab-df-quickchart\" onclick=\"quickchart('df-3aa4af6d-f22a-4477-8b24-28274fca283b')\"\n",
              "            title=\"Suggest charts\"\n",
              "            style=\"display:none;\">\n",
              "\n",
              "<svg xmlns=\"http://www.w3.org/2000/svg\" height=\"24px\"viewBox=\"0 0 24 24\"\n",
              "     width=\"24px\">\n",
              "    <g>\n",
              "        <path d=\"M19 3H5c-1.1 0-2 .9-2 2v14c0 1.1.9 2 2 2h14c1.1 0 2-.9 2-2V5c0-1.1-.9-2-2-2zM9 17H7v-7h2v7zm4 0h-2V7h2v10zm4 0h-2v-4h2v4z\"/>\n",
              "    </g>\n",
              "</svg>\n",
              "  </button>\n",
              "\n",
              "<style>\n",
              "  .colab-df-quickchart {\n",
              "      --bg-color: #E8F0FE;\n",
              "      --fill-color: #1967D2;\n",
              "      --hover-bg-color: #E2EBFA;\n",
              "      --hover-fill-color: #174EA6;\n",
              "      --disabled-fill-color: #AAA;\n",
              "      --disabled-bg-color: #DDD;\n",
              "  }\n",
              "\n",
              "  [theme=dark] .colab-df-quickchart {\n",
              "      --bg-color: #3B4455;\n",
              "      --fill-color: #D2E3FC;\n",
              "      --hover-bg-color: #434B5C;\n",
              "      --hover-fill-color: #FFFFFF;\n",
              "      --disabled-bg-color: #3B4455;\n",
              "      --disabled-fill-color: #666;\n",
              "  }\n",
              "\n",
              "  .colab-df-quickchart {\n",
              "    background-color: var(--bg-color);\n",
              "    border: none;\n",
              "    border-radius: 50%;\n",
              "    cursor: pointer;\n",
              "    display: none;\n",
              "    fill: var(--fill-color);\n",
              "    height: 32px;\n",
              "    padding: 0;\n",
              "    width: 32px;\n",
              "  }\n",
              "\n",
              "  .colab-df-quickchart:hover {\n",
              "    background-color: var(--hover-bg-color);\n",
              "    box-shadow: 0 1px 2px rgba(60, 64, 67, 0.3), 0 1px 3px 1px rgba(60, 64, 67, 0.15);\n",
              "    fill: var(--button-hover-fill-color);\n",
              "  }\n",
              "\n",
              "  .colab-df-quickchart-complete:disabled,\n",
              "  .colab-df-quickchart-complete:disabled:hover {\n",
              "    background-color: var(--disabled-bg-color);\n",
              "    fill: var(--disabled-fill-color);\n",
              "    box-shadow: none;\n",
              "  }\n",
              "\n",
              "  .colab-df-spinner {\n",
              "    border: 2px solid var(--fill-color);\n",
              "    border-color: transparent;\n",
              "    border-bottom-color: var(--fill-color);\n",
              "    animation:\n",
              "      spin 1s steps(1) infinite;\n",
              "  }\n",
              "\n",
              "  @keyframes spin {\n",
              "    0% {\n",
              "      border-color: transparent;\n",
              "      border-bottom-color: var(--fill-color);\n",
              "      border-left-color: var(--fill-color);\n",
              "    }\n",
              "    20% {\n",
              "      border-color: transparent;\n",
              "      border-left-color: var(--fill-color);\n",
              "      border-top-color: var(--fill-color);\n",
              "    }\n",
              "    30% {\n",
              "      border-color: transparent;\n",
              "      border-left-color: var(--fill-color);\n",
              "      border-top-color: var(--fill-color);\n",
              "      border-right-color: var(--fill-color);\n",
              "    }\n",
              "    40% {\n",
              "      border-color: transparent;\n",
              "      border-right-color: var(--fill-color);\n",
              "      border-top-color: var(--fill-color);\n",
              "    }\n",
              "    60% {\n",
              "      border-color: transparent;\n",
              "      border-right-color: var(--fill-color);\n",
              "    }\n",
              "    80% {\n",
              "      border-color: transparent;\n",
              "      border-right-color: var(--fill-color);\n",
              "      border-bottom-color: var(--fill-color);\n",
              "    }\n",
              "    90% {\n",
              "      border-color: transparent;\n",
              "      border-bottom-color: var(--fill-color);\n",
              "    }\n",
              "  }\n",
              "</style>\n",
              "\n",
              "  <script>\n",
              "    async function quickchart(key) {\n",
              "      const quickchartButtonEl =\n",
              "        document.querySelector('#' + key + ' button');\n",
              "      quickchartButtonEl.disabled = true;  // To prevent multiple clicks.\n",
              "      quickchartButtonEl.classList.add('colab-df-spinner');\n",
              "      try {\n",
              "        const charts = await google.colab.kernel.invokeFunction(\n",
              "            'suggestCharts', [key], {});\n",
              "      } catch (error) {\n",
              "        console.error('Error during call to suggestCharts:', error);\n",
              "      }\n",
              "      quickchartButtonEl.classList.remove('colab-df-spinner');\n",
              "      quickchartButtonEl.classList.add('colab-df-quickchart-complete');\n",
              "    }\n",
              "    (() => {\n",
              "      let quickchartButtonEl =\n",
              "        document.querySelector('#df-3aa4af6d-f22a-4477-8b24-28274fca283b button');\n",
              "      quickchartButtonEl.style.display =\n",
              "        google.colab.kernel.accessAllowed ? 'block' : 'none';\n",
              "    })();\n",
              "  </script>\n",
              "</div>\n",
              "\n",
              "  <div id=\"id_ff68d5c5-8020-4ff9-9aa7-33cc1610efd9\">\n",
              "    <style>\n",
              "      .colab-df-generate {\n",
              "        background-color: #E8F0FE;\n",
              "        border: none;\n",
              "        border-radius: 50%;\n",
              "        cursor: pointer;\n",
              "        display: none;\n",
              "        fill: #1967D2;\n",
              "        height: 32px;\n",
              "        padding: 0 0 0 0;\n",
              "        width: 32px;\n",
              "      }\n",
              "\n",
              "      .colab-df-generate:hover {\n",
              "        background-color: #E2EBFA;\n",
              "        box-shadow: 0px 1px 2px rgba(60, 64, 67, 0.3), 0px 1px 3px 1px rgba(60, 64, 67, 0.15);\n",
              "        fill: #174EA6;\n",
              "      }\n",
              "\n",
              "      [theme=dark] .colab-df-generate {\n",
              "        background-color: #3B4455;\n",
              "        fill: #D2E3FC;\n",
              "      }\n",
              "\n",
              "      [theme=dark] .colab-df-generate:hover {\n",
              "        background-color: #434B5C;\n",
              "        box-shadow: 0px 1px 3px 1px rgba(0, 0, 0, 0.15);\n",
              "        filter: drop-shadow(0px 1px 2px rgba(0, 0, 0, 0.3));\n",
              "        fill: #FFFFFF;\n",
              "      }\n",
              "    </style>\n",
              "    <button class=\"colab-df-generate\" onclick=\"generateWithVariable('nycgreen')\"\n",
              "            title=\"Generate code using this dataframe.\"\n",
              "            style=\"display:none;\">\n",
              "\n",
              "  <svg xmlns=\"http://www.w3.org/2000/svg\" height=\"24px\"viewBox=\"0 0 24 24\"\n",
              "       width=\"24px\">\n",
              "    <path d=\"M7,19H8.4L18.45,9,17,7.55,7,17.6ZM5,21V16.75L18.45,3.32a2,2,0,0,1,2.83,0l1.4,1.43a1.91,1.91,0,0,1,.58,1.4,1.91,1.91,0,0,1-.58,1.4L9.25,21ZM18.45,9,17,7.55Zm-12,3A5.31,5.31,0,0,0,4.9,8.1,5.31,5.31,0,0,0,1,6.5,5.31,5.31,0,0,0,4.9,4.9,5.31,5.31,0,0,0,6.5,1,5.31,5.31,0,0,0,8.1,4.9,5.31,5.31,0,0,0,12,6.5,5.46,5.46,0,0,0,6.5,12Z\"/>\n",
              "  </svg>\n",
              "    </button>\n",
              "    <script>\n",
              "      (() => {\n",
              "      const buttonEl =\n",
              "        document.querySelector('#id_ff68d5c5-8020-4ff9-9aa7-33cc1610efd9 button.colab-df-generate');\n",
              "      buttonEl.style.display =\n",
              "        google.colab.kernel.accessAllowed ? 'block' : 'none';\n",
              "\n",
              "      buttonEl.onclick = () => {\n",
              "        google.colab.notebook.generateWithVariable('nycgreen');\n",
              "      }\n",
              "      })();\n",
              "    </script>\n",
              "  </div>\n",
              "\n",
              "    </div>\n",
              "  </div>\n"
            ],
            "application/vnd.google.colaboratory.intrinsic+json": {
              "type": "dataframe",
              "variable_name": "nycgreen"
            }
          },
          "metadata": {},
          "execution_count": 15
        }
      ],
      "source": [
        "nycgreen"
      ]
    },
    {
      "cell_type": "code",
      "execution_count": 16,
      "metadata": {
        "colab": {
          "base_uri": "https://localhost:8080/",
          "height": 774
        },
        "id": "wzLCn3tCkEPV",
        "outputId": "8d37acef-1bd3-4bf2-d263-7348337a3ac2"
      },
      "outputs": [
        {
          "output_type": "execute_result",
          "data": {
            "text/plain": [
              "VendorID                 0\n",
              "lpep_pickup_datetime     0\n",
              "lpep_dropoff_datetime    0\n",
              "store_and_fwd_flag       0\n",
              "RatecodeID               0\n",
              "PULocationID             0\n",
              "DOLocationID             0\n",
              "passenger_count          0\n",
              "trip_distance            0\n",
              "fare_amount              0\n",
              "extra                    0\n",
              "mta_tax                  0\n",
              "tip_amount               0\n",
              "tolls_amount             0\n",
              "improvement_surcharge    0\n",
              "total_amount             0\n",
              "payment_type             0\n",
              "trip_type                0\n",
              "congestion_surcharge     0\n",
              "trip_duration            0\n",
              "weekday                  0\n",
              "hour                     0\n",
              "dtype: int64"
            ],
            "text/html": [
              "<div>\n",
              "<style scoped>\n",
              "    .dataframe tbody tr th:only-of-type {\n",
              "        vertical-align: middle;\n",
              "    }\n",
              "\n",
              "    .dataframe tbody tr th {\n",
              "        vertical-align: top;\n",
              "    }\n",
              "\n",
              "    .dataframe thead th {\n",
              "        text-align: right;\n",
              "    }\n",
              "</style>\n",
              "<table border=\"1\" class=\"dataframe\">\n",
              "  <thead>\n",
              "    <tr style=\"text-align: right;\">\n",
              "      <th></th>\n",
              "      <th>0</th>\n",
              "    </tr>\n",
              "  </thead>\n",
              "  <tbody>\n",
              "    <tr>\n",
              "      <th>VendorID</th>\n",
              "      <td>0</td>\n",
              "    </tr>\n",
              "    <tr>\n",
              "      <th>lpep_pickup_datetime</th>\n",
              "      <td>0</td>\n",
              "    </tr>\n",
              "    <tr>\n",
              "      <th>lpep_dropoff_datetime</th>\n",
              "      <td>0</td>\n",
              "    </tr>\n",
              "    <tr>\n",
              "      <th>store_and_fwd_flag</th>\n",
              "      <td>0</td>\n",
              "    </tr>\n",
              "    <tr>\n",
              "      <th>RatecodeID</th>\n",
              "      <td>0</td>\n",
              "    </tr>\n",
              "    <tr>\n",
              "      <th>PULocationID</th>\n",
              "      <td>0</td>\n",
              "    </tr>\n",
              "    <tr>\n",
              "      <th>DOLocationID</th>\n",
              "      <td>0</td>\n",
              "    </tr>\n",
              "    <tr>\n",
              "      <th>passenger_count</th>\n",
              "      <td>0</td>\n",
              "    </tr>\n",
              "    <tr>\n",
              "      <th>trip_distance</th>\n",
              "      <td>0</td>\n",
              "    </tr>\n",
              "    <tr>\n",
              "      <th>fare_amount</th>\n",
              "      <td>0</td>\n",
              "    </tr>\n",
              "    <tr>\n",
              "      <th>extra</th>\n",
              "      <td>0</td>\n",
              "    </tr>\n",
              "    <tr>\n",
              "      <th>mta_tax</th>\n",
              "      <td>0</td>\n",
              "    </tr>\n",
              "    <tr>\n",
              "      <th>tip_amount</th>\n",
              "      <td>0</td>\n",
              "    </tr>\n",
              "    <tr>\n",
              "      <th>tolls_amount</th>\n",
              "      <td>0</td>\n",
              "    </tr>\n",
              "    <tr>\n",
              "      <th>improvement_surcharge</th>\n",
              "      <td>0</td>\n",
              "    </tr>\n",
              "    <tr>\n",
              "      <th>total_amount</th>\n",
              "      <td>0</td>\n",
              "    </tr>\n",
              "    <tr>\n",
              "      <th>payment_type</th>\n",
              "      <td>0</td>\n",
              "    </tr>\n",
              "    <tr>\n",
              "      <th>trip_type</th>\n",
              "      <td>0</td>\n",
              "    </tr>\n",
              "    <tr>\n",
              "      <th>congestion_surcharge</th>\n",
              "      <td>0</td>\n",
              "    </tr>\n",
              "    <tr>\n",
              "      <th>trip_duration</th>\n",
              "      <td>0</td>\n",
              "    </tr>\n",
              "    <tr>\n",
              "      <th>weekday</th>\n",
              "      <td>0</td>\n",
              "    </tr>\n",
              "    <tr>\n",
              "      <th>hour</th>\n",
              "      <td>0</td>\n",
              "    </tr>\n",
              "  </tbody>\n",
              "</table>\n",
              "</div><br><label><b>dtype:</b> int64</label>"
            ]
          },
          "metadata": {},
          "execution_count": 16
        }
      ],
      "source": [
        "nycgreen.isnull().sum()"
      ]
    },
    {
      "cell_type": "code",
      "execution_count": 17,
      "metadata": {
        "colab": {
          "base_uri": "https://localhost:8080/",
          "height": 871
        },
        "id": "BoqTtWNqkacl",
        "outputId": "24457a2e-8e7a-4922-84cf-9c02c85af333"
      },
      "outputs": [
        {
          "output_type": "display_data",
          "data": {
            "text/plain": [
              "<Figure size 800x500 with 1 Axes>"
            ],
            "image/png": "[encoded data removed]"
          },
          "metadata": {}
        },
        {
          "output_type": "display_data",
          "data": {
            "text/plain": [
              "<Figure size 800x500 with 1 Axes>"
            ],
            "image/png": "[encoded data removed]"
          },
          "metadata": {}
        }
      ],
      "source": [
        "import matplotlib.pyplot as plt\n",
        "\n",
        "# Payment Type Pie Chart\n",
        "plt.figure(figsize=(8, 5))\n",
        "nycgreen['payment_type'].value_counts().plot.pie(autopct='%1.1f%%', startangle=90, shadow=True)\n",
        "plt.title(\"Distribution of Payment Type\")\n",
        "plt.ylabel('')\n",
        "plt.show()\n",
        "\n",
        "# Trip Type Pie Chart\n",
        "plt.figure(figsize=(8, 5))\n",
        "nycgreen['trip_type'].value_counts().plot.pie(autopct='%1.1f%%', startangle=90, shadow=True)\n",
        "plt.title(\"Distribution of Trip Type\")\n",
        "plt.ylabel('')\n",
        "plt.show()"
      ]
    },
    {
      "cell_type": "code",
      "execution_count": 18,
      "metadata": {
        "colab": {
          "base_uri": "https://localhost:8080/"
        },
        "id": "s_C5JBQUkju9",
        "outputId": "58f73fd2-83c6-4cb1-a1a7-b31cf49cb2e9"
      },
      "outputs": [
        {
          "output_type": "stream",
          "name": "stdout",
          "text": [
            "weekday\n",
            "Friday       24.730938\n",
            "Monday       24.019751\n",
            "Saturday     24.720046\n",
            "Sunday       24.975039\n",
            "Thursday     24.608970\n",
            "Tuesday      24.568014\n",
            "Wednesday    24.412463\n",
            "Name: total_amount, dtype: float64\n",
            "payment_type\n",
            "1.000000    25.818791\n",
            "1.296172    33.434778\n",
            "2.000000    21.047274\n",
            "3.000000     4.137805\n",
            "4.000000     1.821781\n",
            "5.000000    11.250000\n",
            "Name: total_amount, dtype: float64\n",
            "weekday\n",
            "Friday       2.611089\n",
            "Monday       2.559621\n",
            "Saturday     2.594308\n",
            "Sunday       2.686409\n",
            "Thursday     2.641508\n",
            "Tuesday      2.635646\n",
            "Wednesday    2.730410\n",
            "Name: tip_amount, dtype: float64\n",
            "payment_type\n",
            "1.000000    3.616412\n",
            "1.296172    4.180872\n",
            "2.000000    0.000000\n",
            "3.000000    0.000000\n",
            "4.000000    0.000000\n",
            "5.000000    0.000000\n",
            "Name: tip_amount, dtype: float64\n"
          ]
        }
      ],
      "source": [
        "print(nycgreen.groupby(\"weekday\")[\"total_amount\"].mean())\n",
        "print(nycgreen.groupby(\"payment_type\")[\"total_amount\"].mean())\n",
        "print(nycgreen.groupby(\"weekday\")[\"tip_amount\"].mean())\n",
        "print(nycgreen.groupby(\"payment_type\")[\"tip_amount\"].mean())\n"
      ]
    },
    {
      "cell_type": "code",
      "execution_count": 19,
      "metadata": {
        "colab": {
          "base_uri": "https://localhost:8080/"
        },
        "id": "xaYDweQIk0g4",
        "outputId": "c9f6ca80-f5dd-4763-888e-811b6d38b9f7"
      },
      "outputs": [
        {
          "output_type": "stream",
          "name": "stdout",
          "text": [
            "ANOVA F-statistic: 2137.483074222606, p-value: 0.0\n"
          ]
        }
      ],
      "source": [
        "from scipy.stats import f_oneway\n",
        "\n",
        "groups = [group[\"total_amount\"].values for name, group in nycgreen.groupby(\"trip_type\")]\n",
        "f_stat, p_val = f_oneway(*groups)\n",
        "print(f\"ANOVA F-statistic: {f_stat}, p-value: {p_val}\")\n"
      ]
    },
    {
      "cell_type": "code",
      "execution_count": 20,
      "metadata": {
        "colab": {
          "base_uri": "https://localhost:8080/"
        },
        "id": "IZLJCIXWk8rZ",
        "outputId": "035fc273-cb42-465c-90bf-276dae5ef8ea"
      },
      "outputs": [
        {
          "output_type": "stream",
          "name": "stdout",
          "text": [
            "ANOVA F-statistic: 1.929567137283583, p-value: 0.07210678626713803\n"
          ]
        }
      ],
      "source": [
        "groups = [group[\"total_amount\"].values for name, group in nycgreen.groupby(\"weekday\")]\n",
        "f_stat, p_val = f_oneway(*groups)\n",
        "print(f\"ANOVA F-statistic: {f_stat}, p-value: {p_val}\")\n"
      ]
    },
    {
      "cell_type": "code",
      "execution_count": 21,
      "metadata": {
        "colab": {
          "base_uri": "https://localhost:8080/"
        },
        "id": "uDP7sWEzlJf1",
        "outputId": "e1cd6f25-e854-43d1-83c0-3144bf4585c9"
      },
      "outputs": [
        {
          "output_type": "stream",
          "name": "stdout",
          "text": [
            "Chi-Square statistic: 60654.30082246292, p-value: 0.0\n"
          ]
        }
      ],
      "source": [
        "from scipy.stats import chi2_contingency\n",
        "\n",
        "contingency = pd.crosstab(nycgreen[\"trip_type\"], nycgreen[\"payment_type\"])\n",
        "chi2, p, dof, expected = chi2_contingency(contingency)\n",
        "print(f\"Chi-Square statistic: {chi2}, p-value: {p}\")\n"
      ]
    },
    {
      "cell_type": "code",
      "execution_count": 22,
      "metadata": {
        "id": "HgHsxxYrlL7s"
      },
      "outputs": [],
      "source": [
        "numeric_cols = nycgreen[['trip_distance', 'fare_amount', 'extra', 'mta_tax', 'tip_amount',\n",
        "                'tolls_amount', 'improvement_surcharge', 'congestion_surcharge',\n",
        "                'trip_duration', 'passenger_count']]\n"
      ]
    },
    {
      "cell_type": "code",
      "execution_count": 23,
      "metadata": {
        "id": "KwBjp_9QlP5h"
      },
      "outputs": [],
      "source": [
        "object_cols = nycgreen[['store_and_fwd_flag', 'RatecodeID', 'payment_type', 'trip_type', 'weekday', 'hour']]\n"
      ]
    },
    {
      "cell_type": "code",
      "execution_count": 24,
      "metadata": {
        "colab": {
          "base_uri": "https://localhost:8080/",
          "height": 854
        },
        "id": "IPEzwUTblWTe",
        "outputId": "70b2c9cf-3d84-4659-d9ec-57fdbcd56b21"
      },
      "outputs": [
        {
          "output_type": "display_data",
          "data": {
            "text/plain": [
              "<Figure size 1000x800 with 2 Axes>"
            ],
            "image/png": "[encoded data removed]"
          },
          "metadata": {}
        }
      ],
      "source": [
        "import seaborn as sns\n",
        "\n",
        "plt.figure(figsize=(10,8))\n",
        "# Correctly use numeric_cols as a list of columns to select data from nycgreen\n",
        "corr = nycgreen[numeric_cols.columns].corr()\n",
        "sns.heatmap(corr, annot=True, cmap='coolwarm')\n",
        "plt.title(\"Correlation Matrix of Numeric Variables\")\n",
        "plt.show()"
      ]
    },
    {
      "cell_type": "code",
      "execution_count": 25,
      "metadata": {
        "id": "JjxpVuaOlYvU"
      },
      "outputs": [],
      "source": [
        "\n",
        "nycgreen_encoded = nycgreen.drop(columns=['lpep_pickup_datetime', 'lpep_dropoff_datetime'])\n"
      ]
    },
    {
      "cell_type": "code",
      "execution_count": 26,
      "metadata": {
        "colab": {
          "base_uri": "https://localhost:8080/",
          "height": 1000
        },
        "id": "WtWK8Aftl4LT",
        "outputId": "e29d26a3-315c-4936-ced0-7db77496e6f3"
      },
      "outputs": [
        {
          "output_type": "display_data",
          "data": {
            "text/plain": [
              "<Figure size 700x400 with 1 Axes>"
            ],
            "image/png": "[encoded data removed]"
          },
          "metadata": {}
        },
        {
          "output_type": "display_data",
          "data": {
            "text/plain": [
              "<Figure size 700x400 with 1 Axes>"
            ],
            "image/png": "[encoded data removed]"
          },
          "metadata": {}
        },
        {
          "output_type": "stream",
          "name": "stderr",
          "text": [
            "<ipython-input-26-762c50949424>:17: FutureWarning: \n",
            "\n",
            "`shade` is now deprecated in favor of `fill`; setting `fill=True`.\n",
            "This will become an error in seaborn v0.14.0; please update your code.\n",
            "\n",
            "  sns.kdeplot(nycgreen['total_amount'], shade=True)\n"
          ]
        },
        {
          "output_type": "display_data",
          "data": {
            "text/plain": [
              "<Figure size 700x400 with 1 Axes>"
            ],
            "image/png": "[encoded data removed]"
          },
          "metadata": {}
        }
      ],
      "source": [
        "import seaborn as sns\n",
        "\n",
        "# Histogram\n",
        "plt.figure(figsize=(7,4))\n",
        "sns.histplot(nycgreen['total_amount'], bins=50, kde=False)\n",
        "plt.title(\"Histogram of Total Amount\")\n",
        "plt.show()\n",
        "\n",
        "# Boxplot\n",
        "plt.figure(figsize=(7,4))\n",
        "sns.boxplot(x=nycgreen['total_amount'])\n",
        "plt.title(\"Boxplot of Total Amount\")\n",
        "plt.show()\n",
        "\n",
        "# Density Curve\n",
        "plt.figure(figsize=(7,4))\n",
        "sns.kdeplot(nycgreen['total_amount'], shade=True)\n",
        "plt.title(\"Density Curve of Total Amount\")\n",
        "plt.show()\n"
      ]
    },
    {
      "cell_type": "code",
      "source": [
        "# Importing required libraries\n",
        "import pandas as pd\n",
        "import numpy as np\n",
        "import matplotlib.pyplot as plt\n",
        "import seaborn as sns\n",
        "from sklearn.model_selection import train_test_split\n",
        "from sklearn.linear_model import LinearRegression\n",
        "from sklearn.tree import DecisionTreeRegressor\n",
        "from sklearn.ensemble import RandomForestRegressor, GradientBoostingRegressor\n",
        "from sklearn.metrics import mean_squared_error, r2_score\n"
      ],
      "metadata": {
        "id": "0K7tSRVPgFi0"
      },
      "execution_count": 40,
      "outputs": []
    },
    {
      "cell_type": "code",
      "execution_count": 49,
      "metadata": {
        "id": "RJ3iP5nxl8tq"
      },
      "outputs": [],
      "source": [
        "from sklearn.model_selection import train_test_split\n",
        "# Assume 'target' is the column you're trying to predict, adjust as needed\n",
        "X = nycgreen.drop(['fare_amount','lpep_pickup_datetime', 'lpep_dropoff_datetime'], axis=1)\n",
        "y = nycgreen['fare_amount']\n",
        "\n",
        "# Split the data into train and test sets (80% train, 20% test)\n",
        "X_train, X_test, y_train, y_test = train_test_split(X, y, test_size=0.2, random_state=42)\n"
      ]
    },
    {
      "cell_type": "code",
      "execution_count": 52,
      "metadata": {
        "id": "2Ylu3wIZ-Yhy",
        "colab": {
          "base_uri": "https://localhost:8080/"
        },
        "outputId": "359fc0c0-472a-4147-d98c-5923cd64bc03"
      },
      "outputs": [
        {
          "output_type": "stream",
          "name": "stdout",
          "text": [
            "Collecting category_encoders\n",
            "  Downloading category_encoders-2.8.1-py3-none-any.whl.metadata (7.9 kB)\n",
            "Requirement already satisfied: numpy>=1.14.0 in /usr/local/lib/python3.11/dist-packages (from category_encoders) (1.26.4)\n",
            "Requirement already satisfied: pandas>=1.0.5 in /usr/local/lib/python3.11/dist-packages (from category_encoders) (2.2.2)\n",
            "Requirement already satisfied: patsy>=0.5.1 in /usr/local/lib/python3.11/dist-packages (from category_encoders) (1.0.1)\n",
            "Requirement already satisfied: scikit-learn>=1.6.0 in /usr/local/lib/python3.11/dist-packages (from category_encoders) (1.6.1)\n",
            "Requirement already satisfied: scipy>=1.0.0 in /usr/local/lib/python3.11/dist-packages (from category_encoders) (1.13.1)\n",
            "Requirement already satisfied: statsmodels>=0.9.0 in /usr/local/lib/python3.11/dist-packages (from category_encoders) (0.14.4)\n",
            "Requirement already satisfied: python-dateutil>=2.8.2 in /usr/local/lib/python3.11/dist-packages (from pandas>=1.0.5->category_encoders) (2.8.2)\n",
            "Requirement already satisfied: pytz>=2020.1 in /usr/local/lib/python3.11/dist-packages (from pandas>=1.0.5->category_encoders) (2025.1)\n",
            "Requirement already satisfied: tzdata>=2022.7 in /usr/local/lib/python3.11/dist-packages (from pandas>=1.0.5->category_encoders) (2025.1)\n",
            "Requirement already satisfied: joblib>=1.2.0 in /usr/local/lib/python3.11/dist-packages (from scikit-learn>=1.6.0->category_encoders) (1.4.2)\n",
            "Requirement already satisfied: threadpoolctl>=3.1.0 in /usr/local/lib/python3.11/dist-packages (from scikit-learn>=1.6.0->category_encoders) (3.5.0)\n",
            "Requirement already satisfied: packaging>=21.3 in /usr/local/lib/python3.11/dist-packages (from statsmodels>=0.9.0->category_encoders) (24.2)\n",
            "Requirement already satisfied: six>=1.5 in /usr/local/lib/python3.11/dist-packages (from python-dateutil>=2.8.2->pandas>=1.0.5->category_encoders) (1.17.0)\n",
            "Downloading category_encoders-2.8.1-py3-none-any.whl (85 kB)\n",
            "\u001b[2K   \u001b[90m━━━━━━━━━━━━━━━━━━━━━━━━━━━━━━━━━━━━━━━━\u001b[0m \u001b[32m85.7/85.7 kB\u001b[0m \u001b[31m2.3 MB/s\u001b[0m eta \u001b[36m0:00:00\u001b[0m\n",
            "\u001b[?25hInstalling collected packages: category_encoders\n",
            "Successfully installed category_encoders-2.8.1\n",
            "Multiple Linear Regression Performance:\n",
            "R-squared: 0.999204183269234\n",
            "MSE: 0.19959736646182932\n"
          ]
        }
      ],
      "source": [
        "!pip install category_encoders\n",
        "import pandas as pd\n",
        "from sklearn.model_selection import train_test_split\n",
        "from sklearn.linear_model import LinearRegression\n",
        "from sklearn.metrics import mean_squared_error, r2_score\n",
        "import category_encoders as ce\n",
        "\n",
        "\n",
        "# Assume 'target' is the column you're trying to predict, adjust as needed\n",
        "X = nycgreen.drop(['fare_amount','lpep_pickup_datetime', 'lpep_dropoff_datetime'], axis=1)\n",
        "y = nycgreen['fare_amount']\n",
        "\n",
        "# Identify categorical columns\n",
        "categorical_cols = X.select_dtypes(include=['object','category']).columns.tolist()\n",
        "\n",
        "# Initialize the encoder - using OneHotEncoder here\n",
        "encoder = ce.OneHotEncoder(cols=categorical_cols, handle_unknown='ignore')\n",
        "\n",
        "# Fit and transform the encoder on the training data\n",
        "X_encoded = encoder.fit_transform(X)\n",
        "\n",
        "# Split the encoded data into train and test sets (80% train, 20% test)\n",
        "X_train, X_test, y_train, y_test = train_test_split(X_encoded, y, test_size=0.2, random_state=42)\n",
        "\n",
        "# Initialize the model\n",
        "lr_model = LinearRegression()\n",
        "\n",
        "# Train the model\n",
        "lr_model.fit(X_train, y_train)\n",
        "\n",
        "# Make predictions\n",
        "y_pred_lr = lr_model.predict(X_test)\n",
        "\n",
        "# Evaluate the model\n",
        "print(\"Multiple Linear Regression Performance:\")\n",
        "print(\"R-squared:\", r2_score(y_test, y_pred_lr))\n",
        "print(\"MSE:\", mean_squared_error(y_test, y_pred_lr))"
      ]
    },
    {
      "cell_type": "code",
      "execution_count": 53,
      "metadata": {
        "id": "VX-1R3Cgo6Lx",
        "colab": {
          "base_uri": "https://localhost:8080/"
        },
        "outputId": "dd28441a-c93b-40e0-f13e-7b01f0ae58fc"
      },
      "outputs": [
        {
          "output_type": "stream",
          "name": "stdout",
          "text": [
            "Decision Tree Regressor Performance:\n",
            "R-squared: 0.9862555699455252\n",
            "MSE: 3.447215842963691\n"
          ]
        }
      ],
      "source": [
        "# Initialize the model\n",
        "dt_model = DecisionTreeRegressor(random_state=42)\n",
        "\n",
        "# Train the model\n",
        "dt_model.fit(X_train, y_train)\n",
        "\n",
        "# Make predictions\n",
        "y_pred_dt = dt_model.predict(X_test)\n",
        "\n",
        "# Evaluate the model\n",
        "print(\"Decision Tree Regressor Performance:\")\n",
        "print(\"R-squared:\", r2_score(y_test, y_pred_dt))\n",
        "print(\"MSE:\", mean_squared_error(y_test, y_pred_dt))\n"
      ]
    },
    {
      "cell_type": "code",
      "source": [
        "# Initialize the model\n",
        "rf_model = RandomForestRegressor(n_estimators=100, random_state=42)\n",
        "\n",
        "# Train the model\n",
        "rf_model.fit(X_train, y_train)\n",
        "\n",
        "# Make predictions\n",
        "y_pred_rf = rf_model.predict(X_test)\n",
        "\n",
        "# Evaluate the model\n",
        "print(\"Random Forest Regressor Performance:\")\n",
        "print(\"R-squared:\", r2_score(y_test, y_pred_rf))\n",
        "print(\"MSE:\", mean_squared_error(y_test, y_pred_rf))\n"
      ],
      "metadata": {
        "colab": {
          "base_uri": "https://localhost:8080/"
        },
        "id": "pErt518Ec7vX",
        "outputId": "327de18a-9265-4424-dcac-af7294024727"
      },
      "execution_count": 54,
      "outputs": [
        {
          "output_type": "stream",
          "name": "stdout",
          "text": [
            "Random Forest Regressor Performance:\n",
            "R-squared: 0.9853797637391515\n",
            "MSE: 3.666875226292927\n"
          ]
        }
      ]
    },
    {
      "cell_type": "code",
      "source": [
        "# Initialize the model\n",
        "gb_model = GradientBoostingRegressor(n_estimators=100, random_state=42)\n",
        "\n",
        "# Train the model\n",
        "gb_model.fit(X_train, y_train)\n",
        "\n",
        "# Make predictions\n",
        "y_pred_gb = gb_model.predict(X_test)\n",
        "\n",
        "# Evaluate the model\n",
        "print(\"Gradient Boosting Regressor Performance:\")\n",
        "print(\"R-squared:\", r2_score(y_test, y_pred_gb))\n",
        "print(\"MSE:\", mean_squared_error(y_test, y_pred_gb))\n"
      ],
      "metadata": {
        "colab": {
          "base_uri": "https://localhost:8080/"
        },
        "id": "f4lfOSWCjkY8",
        "outputId": "dd6bc594-1754-4c5e-b3d0-635032e7ccda"
      },
      "execution_count": 55,
      "outputs": [
        {
          "output_type": "stream",
          "name": "stdout",
          "text": [
            "Gradient Boosting Regressor Performance:\n",
            "R-squared: 0.9890210899023374\n",
            "MSE: 2.753600744238576\n"
          ]
        }
      ]
    },
    {
      "cell_type": "code",
      "source": [
        "model = RandomForestRegressor(n_estimators=100, random_state=42)\n",
        "model.fit(X_train, y_train)\n",
        "\n",
        "# Evaluate\n",
        "y_pred = model.predict(X_test)\n",
        "rmse = np.sqrt(mean_squared_error(y_test, y_pred))\n",
        "print(f\"RMSE: {rmse:.2f}\")\n",
        "\n",
        "# Save the model\n",
        "joblib.dump(model, \"your_model.pkl\")\n",
        "print(\"✅ Model saved as your_model.pkl\")\n"
      ],
      "metadata": {
        "colab": {
          "base_uri": "https://localhost:8080/"
        },
        "id": "xK3Z0EI6jteY",
        "outputId": "f0c7d317-0e8d-451a-c504-e7a9f50664b2"
      },
      "execution_count": 58,
      "outputs": [
        {
          "output_type": "stream",
          "name": "stdout",
          "text": [
            "RMSE: 1.91\n",
            "✅ Model saved as your_model.pkl\n"
          ]
        }
      ]
    },
    {
      "cell_type": "code",
      "source": [],
      "metadata": {
        "id": "tw4bPFaZkWX1"
      },
      "execution_count": null,
      "outputs": []
    }
  ],
  "metadata": {
    "colab": {
      "provenance": []
    },
    "kernelspec": {
      "display_name": "Python 3",
      "name": "python3"
    },
    "language_info": {
      "name": "python"
    }
  },
  "nbformat": 4,
  "nbformat_minor": 0
}